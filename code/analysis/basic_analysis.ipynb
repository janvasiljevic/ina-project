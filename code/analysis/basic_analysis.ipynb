{
 "cells": [
  {
   "cell_type": "code",
   "execution_count": 1,
   "metadata": {},
   "outputs": [],
   "source": [
    "import igraph as ig\n",
    "import numpy as np\n",
    "import pandas as pd\n",
    "import matplotlib.pyplot as plt\n",
    "import seaborn as sns\n",
    "from igraph import Graph, plot\n"
   ]
  },
  {
   "cell_type": "code",
   "execution_count": 2,
   "metadata": {},
   "outputs": [
    {
     "name": "stderr",
     "output_type": "stream",
     "text": [
      "/tmp/ipykernel_27605/2692579725.py:1: RuntimeWarning: Could not add vertex ids, there is already an 'id' vertex attribute. at src/io/graphml.c:488\n",
      "  g_crates = ig.Graph.Read_GraphML(\"../../networks/crates_io.graphml\")\n"
     ]
    }
   ],
   "source": [
    "g_crates = ig.Graph.Read_GraphML(\"../../networks/crates_io.graphml\")"
   ]
  },
  {
   "cell_type": "code",
   "execution_count": 3,
   "metadata": {},
   "outputs": [],
   "source": [
    "def basic_stats(g):\n",
    "    print(\"Number of vertices: \", g.vcount())\n",
    "    print(\"Number of edges: \", g.ecount())\n",
    "    print(\"Density: \", g.density())"
   ]
  },
  {
   "cell_type": "code",
   "execution_count": 4,
   "metadata": {},
   "outputs": [],
   "source": [
    "def degree_analysis(g):\n",
    "    degrees = g.degree()\n",
    "    distribution = g.degree_distribution()\n",
    "    print(\"Max degree: \", max(degrees))\n",
    "    print(\"Min degree: \", min(degrees))\n",
    "    print(\"Mean degree: \", sum(degrees)/len(degrees))\n",
    "    print(\"Degree distribution: \", f'mean: {distribution.mean}, sd: {distribution.sd}, variance: {distribution.var}')"
   ]
  },
  {
   "cell_type": "code",
   "execution_count": 5,
   "metadata": {},
   "outputs": [],
   "source": [
    "def path_analysis(g):\n",
    "    print(\"Diameter: \", g.diameter())\n",
    "    print(\"Average path length: \", g.average_path_length())"
   ]
  },
  {
   "cell_type": "code",
   "execution_count": 6,
   "metadata": {},
   "outputs": [],
   "source": [
    "def clustering_analysis(g):\n",
    "    print(\"Global clustering coefficient: \", g.transitivity_avglocal_undirected(mode='zero'))\n",
    "    print(\"transitivity\", g.transitivity_undirected())"
   ]
  },
  {
   "cell_type": "code",
   "execution_count": 7,
   "metadata": {},
   "outputs": [],
   "source": [
    "def components_analysis(g):\n",
    "    components = g.components()\n",
    "    print(\"Number of connected components: \", components.summary())\n",
    "    print(\"Largest connected component: \", components.giant().vcount())"
   ]
  },
  {
   "cell_type": "code",
   "execution_count": 8,
   "metadata": {},
   "outputs": [],
   "source": [
    "def centrality_analysis(g):\n",
    "    betweenness = g.betweenness()\n",
    "    highest_betweenness = g.vs.select(_betweenness = max(betweenness))\n",
    "    print(f'Betweenness centrality: {np.mean(betweenness)}, highest betweenness: {highest_betweenness[\"id\"]}')\n",
    "\n",
    "    closeness = g.closeness()\n",
    "    highest_closeness = g.vs.select(_closeness = max(closeness))\n",
    "    print(f'Closeness centrality: {np.mean(closeness)}, highest closeness: {highest_closeness[\"id\"]}')\n",
    "\n",
    "    pagerank = g.pagerank()\n",
    "    highest_pagerank = g.vs.select(_pagerank = max(pagerank))\n",
    "    print(f'Pagerank centrality: {np.mean(pagerank)}, highest pagerank: {highest_pagerank[\"id\"]}')"
   ]
  },
  {
   "cell_type": "code",
   "execution_count": 9,
   "metadata": {},
   "outputs": [],
   "source": [
    "def visualize(g):\n",
    "    visual_style = {}\n",
    "    visual_style[\"vertex_size\"] = 20\n",
    "    visual_style[\"vertex_label\"] = g.vs['id']\n",
    "    visual_style[\"edge_width\"] = 1\n",
    "    visual_style[\"layout\"] = g.layout(\"kk\")  # Kamada-Kawai layout\n",
    "    plot(g, **visual_style)"
   ]
  },
  {
   "cell_type": "code",
   "execution_count": null,
   "metadata": {},
   "outputs": [],
   "source": []
  },
  {
   "cell_type": "code",
   "execution_count": 10,
   "metadata": {},
   "outputs": [
    {
     "name": "stdout",
     "output_type": "stream",
     "text": [
      "Number of vertices:  145269\n",
      "Number of edges:  830376\n",
      "Density:  3.9348835490524716e-05\n"
     ]
    }
   ],
   "source": [
    "basic_stats(g_crates)"
   ]
  },
  {
   "cell_type": "code",
   "execution_count": 11,
   "metadata": {},
   "outputs": [
    {
     "name": "stdout",
     "output_type": "stream",
     "text": [
      "Max degree:  37632\n",
      "Min degree:  0\n",
      "Mean degree:  11.432253268075089\n",
      "Degree distribution:  mean: 11.43225326807511, sd: 187.20010975512147, variance: 35043.881092329524\n"
     ]
    }
   ],
   "source": [
    "degree_analysis(g_crates)"
   ]
  },
  {
   "cell_type": "code",
   "execution_count": 12,
   "metadata": {},
   "outputs": [
    {
     "name": "stdout",
     "output_type": "stream",
     "text": [
      "Diameter:  24\n",
      "Average path length:  7.58761621807268\n"
     ]
    }
   ],
   "source": [
    "path_analysis(g_crates)"
   ]
  },
  {
   "cell_type": "code",
   "execution_count": 13,
   "metadata": {},
   "outputs": [
    {
     "name": "stdout",
     "output_type": "stream",
     "text": [
      "Global clustering coefficient:  0.229764838034102\n",
      "transitivity 0.001299773946326216\n"
     ]
    }
   ],
   "source": [
    "clustering_analysis(g_crates)"
   ]
  },
  {
   "cell_type": "code",
   "execution_count": 14,
   "metadata": {},
   "outputs": [
    {
     "name": "stdout",
     "output_type": "stream",
     "text": [
      "Number of connected components:  Clustering with 145269 elements and 143062 clusters\n",
      "Largest connected component:  1679\n"
     ]
    }
   ],
   "source": [
    "components_analysis(g_crates)"
   ]
  },
  {
   "cell_type": "code",
   "execution_count": 15,
   "metadata": {},
   "outputs": [
    {
     "name": "stdout",
     "output_type": "stream",
     "text": [
      "Betweenness centrality: 10418.15222793586, highest betweenness: ['criterion']\n"
     ]
    },
    {
     "ename": "KeyboardInterrupt",
     "evalue": "",
     "output_type": "error",
     "traceback": [
      "\u001b[0;31m---------------------------------------------------------------------------\u001b[0m",
      "\u001b[0;31mKeyboardInterrupt\u001b[0m                         Traceback (most recent call last)",
      "Cell \u001b[0;32mIn[15], line 1\u001b[0m\n\u001b[0;32m----> 1\u001b[0m \u001b[43mcentrality_analysis\u001b[49m\u001b[43m(\u001b[49m\u001b[43mg_crates\u001b[49m\u001b[43m)\u001b[49m\n",
      "Cell \u001b[0;32mIn[8], line 6\u001b[0m, in \u001b[0;36mcentrality_analysis\u001b[0;34m(g)\u001b[0m\n\u001b[1;32m      3\u001b[0m highest_betweenness \u001b[38;5;241m=\u001b[39m g\u001b[38;5;241m.\u001b[39mvs\u001b[38;5;241m.\u001b[39mselect(_betweenness \u001b[38;5;241m=\u001b[39m \u001b[38;5;28mmax\u001b[39m(betweenness))\n\u001b[1;32m      4\u001b[0m \u001b[38;5;28mprint\u001b[39m(\u001b[38;5;124mf\u001b[39m\u001b[38;5;124m'\u001b[39m\u001b[38;5;124mBetweenness centrality: \u001b[39m\u001b[38;5;132;01m{\u001b[39;00mnp\u001b[38;5;241m.\u001b[39mmean(betweenness)\u001b[38;5;132;01m}\u001b[39;00m\u001b[38;5;124m, highest betweenness: \u001b[39m\u001b[38;5;132;01m{\u001b[39;00mhighest_betweenness[\u001b[38;5;124m\"\u001b[39m\u001b[38;5;124mid\u001b[39m\u001b[38;5;124m\"\u001b[39m]\u001b[38;5;132;01m}\u001b[39;00m\u001b[38;5;124m'\u001b[39m)\n\u001b[0;32m----> 6\u001b[0m closeness \u001b[38;5;241m=\u001b[39m \u001b[43mg\u001b[49m\u001b[38;5;241;43m.\u001b[39;49m\u001b[43mcloseness\u001b[49m\u001b[43m(\u001b[49m\u001b[43m)\u001b[49m\n\u001b[1;32m      7\u001b[0m highest_closeness \u001b[38;5;241m=\u001b[39m g\u001b[38;5;241m.\u001b[39mvs\u001b[38;5;241m.\u001b[39mselect(_closeness \u001b[38;5;241m=\u001b[39m \u001b[38;5;28mmax\u001b[39m(closeness))\n\u001b[1;32m      8\u001b[0m \u001b[38;5;28mprint\u001b[39m(\u001b[38;5;124mf\u001b[39m\u001b[38;5;124m'\u001b[39m\u001b[38;5;124mCloseness centrality: \u001b[39m\u001b[38;5;132;01m{\u001b[39;00mnp\u001b[38;5;241m.\u001b[39mmean(closeness)\u001b[38;5;132;01m}\u001b[39;00m\u001b[38;5;124m, highest closeness: \u001b[39m\u001b[38;5;132;01m{\u001b[39;00mhighest_closeness[\u001b[38;5;124m\"\u001b[39m\u001b[38;5;124mid\u001b[39m\u001b[38;5;124m\"\u001b[39m]\u001b[38;5;132;01m}\u001b[39;00m\u001b[38;5;124m'\u001b[39m)\n",
      "\u001b[0;31mKeyboardInterrupt\u001b[0m: "
     ]
    }
   ],
   "source": [
    "centrality_analysis(g_crates)"
   ]
  },
  {
   "cell_type": "code",
   "execution_count": null,
   "metadata": {},
   "outputs": [
    {
     "ename": "MemoryError",
     "evalue": "Error at src/core/vector.c:146: Cannot initialize vector. -- Out of memory",
     "output_type": "error",
     "traceback": [
      "\u001b[0;31m---------------------------------------------------------------------------\u001b[0m",
      "\u001b[0;31mMemoryError\u001b[0m                               Traceback (most recent call last)",
      "Cell \u001b[0;32mIn[17], line 1\u001b[0m\n\u001b[0;32m----> 1\u001b[0m \u001b[43mvisualize\u001b[49m\u001b[43m(\u001b[49m\u001b[43mg_crates\u001b[49m\u001b[43m)\u001b[49m\n",
      "Cell \u001b[0;32mIn[9], line 6\u001b[0m, in \u001b[0;36mvisualize\u001b[0;34m(g)\u001b[0m\n\u001b[1;32m      4\u001b[0m visual_style[\u001b[38;5;124m\"\u001b[39m\u001b[38;5;124mvertex_label\u001b[39m\u001b[38;5;124m\"\u001b[39m] \u001b[38;5;241m=\u001b[39m g\u001b[38;5;241m.\u001b[39mvs[\u001b[38;5;124m'\u001b[39m\u001b[38;5;124mid\u001b[39m\u001b[38;5;124m'\u001b[39m]\n\u001b[1;32m      5\u001b[0m visual_style[\u001b[38;5;124m\"\u001b[39m\u001b[38;5;124medge_width\u001b[39m\u001b[38;5;124m\"\u001b[39m] \u001b[38;5;241m=\u001b[39m \u001b[38;5;241m1\u001b[39m\n\u001b[0;32m----> 6\u001b[0m visual_style[\u001b[38;5;124m\"\u001b[39m\u001b[38;5;124mlayout\u001b[39m\u001b[38;5;124m\"\u001b[39m] \u001b[38;5;241m=\u001b[39m \u001b[43mg\u001b[49m\u001b[38;5;241;43m.\u001b[39;49m\u001b[43mlayout\u001b[49m\u001b[43m(\u001b[49m\u001b[38;5;124;43m\"\u001b[39;49m\u001b[38;5;124;43mkk\u001b[39;49m\u001b[38;5;124;43m\"\u001b[39;49m\u001b[43m)\u001b[49m  \u001b[38;5;66;03m# Kamada-Kawai layout\u001b[39;00m\n\u001b[1;32m      7\u001b[0m plot(g, \u001b[38;5;241m*\u001b[39m\u001b[38;5;241m*\u001b[39mvisual_style)\n",
      "File \u001b[0;32m~/miniconda3/envs/ina/lib/python3.11/site-packages/igraph/layout.py:531\u001b[0m, in \u001b[0;36m_layout\u001b[0;34m(graph, layout, *args, **kwds)\u001b[0m\n\u001b[1;32m    529\u001b[0m \u001b[38;5;28;01mif\u001b[39;00m \u001b[38;5;129;01mnot\u001b[39;00m \u001b[38;5;28mcallable\u001b[39m(method):\n\u001b[1;32m    530\u001b[0m     \u001b[38;5;28;01mraise\u001b[39;00m \u001b[38;5;167;01mValueError\u001b[39;00m(\u001b[38;5;124m\"\u001b[39m\u001b[38;5;124mlayout method must be callable\u001b[39m\u001b[38;5;124m\"\u001b[39m)\n\u001b[0;32m--> 531\u001b[0m layout \u001b[38;5;241m=\u001b[39m \u001b[43mmethod\u001b[49m\u001b[43m(\u001b[49m\u001b[43mgraph\u001b[49m\u001b[43m,\u001b[49m\u001b[43m \u001b[49m\u001b[38;5;241;43m*\u001b[39;49m\u001b[43margs\u001b[49m\u001b[43m,\u001b[49m\u001b[43m \u001b[49m\u001b[38;5;241;43m*\u001b[39;49m\u001b[38;5;241;43m*\u001b[39;49m\u001b[43mkwds\u001b[49m\u001b[43m)\u001b[49m\n\u001b[1;32m    532\u001b[0m \u001b[38;5;28;01mif\u001b[39;00m \u001b[38;5;129;01mnot\u001b[39;00m \u001b[38;5;28misinstance\u001b[39m(layout, Layout):\n\u001b[1;32m    533\u001b[0m     layout \u001b[38;5;241m=\u001b[39m Layout(layout)\n",
      "File \u001b[0;32m~/miniconda3/envs/ina/lib/python3.11/site-packages/igraph/layout.py:691\u001b[0m, in \u001b[0;36m_layout_method_wrapper.<locals>.result\u001b[0;34m(*args, **kwds)\u001b[0m\n\u001b[1;32m    690\u001b[0m \u001b[38;5;28;01mdef\u001b[39;00m \u001b[38;5;21mresult\u001b[39m(\u001b[38;5;241m*\u001b[39margs, \u001b[38;5;241m*\u001b[39m\u001b[38;5;241m*\u001b[39mkwds):\n\u001b[0;32m--> 691\u001b[0m     layout \u001b[38;5;241m=\u001b[39m \u001b[43mfunc\u001b[49m\u001b[43m(\u001b[49m\u001b[38;5;241;43m*\u001b[39;49m\u001b[43margs\u001b[49m\u001b[43m,\u001b[49m\u001b[43m \u001b[49m\u001b[38;5;241;43m*\u001b[39;49m\u001b[38;5;241;43m*\u001b[39;49m\u001b[43mkwds\u001b[49m\u001b[43m)\u001b[49m\n\u001b[1;32m    692\u001b[0m     \u001b[38;5;28;01mif\u001b[39;00m \u001b[38;5;129;01mnot\u001b[39;00m \u001b[38;5;28misinstance\u001b[39m(layout, Layout):\n\u001b[1;32m    693\u001b[0m         layout \u001b[38;5;241m=\u001b[39m Layout(layout)\n",
      "\u001b[0;31mMemoryError\u001b[0m: Error at src/core/vector.c:146: Cannot initialize vector. -- Out of memory"
     ]
    }
   ],
   "source": [
    "visualize(g_crates)"
   ]
  }
 ],
 "metadata": {
  "kernelspec": {
   "display_name": "ina",
   "language": "python",
   "name": "python3"
  },
  "language_info": {
   "codemirror_mode": {
    "name": "ipython",
    "version": 3
   },
   "file_extension": ".py",
   "mimetype": "text/x-python",
   "name": "python",
   "nbconvert_exporter": "python",
   "pygments_lexer": "ipython3",
   "version": "3.11.9"
  }
 },
 "nbformat": 4,
 "nbformat_minor": 2
}
