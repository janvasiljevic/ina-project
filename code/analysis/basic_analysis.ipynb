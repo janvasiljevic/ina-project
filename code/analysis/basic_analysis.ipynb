{
 "cells": [
  {
   "cell_type": "code",
   "execution_count": 2,
   "metadata": {},
   "outputs": [],
   "source": [
    "import igraph as ig\n",
    "import numpy as np\n",
    "import pandas as pd\n",
    "import matplotlib.pyplot as plt\n",
    "import seaborn as sns\n",
    "from igraph import Graph, plot"
   ]
  },
  {
   "cell_type": "code",
   "execution_count": 90,
   "metadata": {},
   "outputs": [
    {
     "name": "stderr",
     "output_type": "stream",
     "text": [
      "/tmp/ipykernel_9532/105968312.py:1: RuntimeWarning: Could not add vertex ids, there is already an 'id' vertex attribute. at src/io/graphml.c:488\n",
      "  g_crates = ig.Graph.Read_GraphML(\"../../networks/crates_io.graphml\")\n"
     ]
    }
   ],
   "source": [
    "g_crates = ig.Graph.Read_GraphML(\"../../networks/crates_io.graphml\")\n",
    "g_python = ig.Graph.Read_GraphML(\"../../networks/python-dependencies.graphml\")\n",
    "g_npm = ig.Graph.Read_GraphML(\"../../networks/npm_graph_full.graphml\")"
   ]
  },
  {
   "cell_type": "code",
   "execution_count": 46,
   "metadata": {},
   "outputs": [
    {
     "data": {
      "text/plain": [
       "<igraph.Graph at 0x7f3ef11c7950>"
      ]
     },
     "execution_count": 46,
     "metadata": {},
     "output_type": "execute_result"
    }
   ],
   "source": [
    "g_crates.simplify()\n",
    "g_python.simplify()\n",
    "g_npm.simplify()"
   ]
  },
  {
   "cell_type": "code",
   "execution_count": 58,
   "metadata": {},
   "outputs": [],
   "source": [
    "def basic_stats(g):\n",
    "    print(\"Number of vertices: \", g.vcount())\n",
    "    print(\"Number of edges: \", g.ecount())\n",
    "    print(\"Density: \", g.density())\n",
    "    print(\"Isolated vertices: \", g.isolated_vertices())"
   ]
  },
  {
   "cell_type": "code",
   "execution_count": 91,
   "metadata": {},
   "outputs": [
    {
     "name": "stdout",
     "output_type": "stream",
     "text": [
      "Number of vertices:  145269\n",
      "Number of edges:  830376\n",
      "Density:  3.9348835490524716e-05\n",
      "Max degree:  37632\n",
      "Min degree:  0\n",
      "Mean degree:  11.432253268075089\n",
      "Degree distribution:  mean: 11.43225326807511, sd: 187.20010975512147, variance: 35043.881092329524\n",
      "Number of vertices:  145269\n",
      "Number of edges:  830337\n",
      "Density:  3.934698740654333e-05\n",
      "Max degree:  37632\n",
      "Min degree:  0\n",
      "Mean degree:  11.431716333147472\n",
      "Degree distribution:  mean: 11.431716333147309, sd: 187.1998318166331, variance: 35043.77703217571\n"
     ]
    }
   ],
   "source": [
    "def degree_analysis(g):\n",
    "    degrees = g.degree()\n",
    "    distribution = g.degree_distribution()\n",
    "    print(\"Max degree: \", max(degrees))\n",
    "    print(\"Min degree: \", min(degrees))\n",
    "    print(\"Mean degree: \", sum(degrees) / len(degrees))\n",
    "    print(\n",
    "        \"Degree distribution: \",\n",
    "        f\"mean: {distribution.mean}, sd: {distribution.sd}, variance: {distribution.var}\",\n",
    "    )"
   ]
  },
  {
   "cell_type": "code",
   "execution_count": null,
   "metadata": {},
   "outputs": [],
   "source": [
    "def path_analysis(g):\n",
    "    print(\"Diameter: \", g.diameter())\n",
    "    print(\"Average path length: \", g.average_path_length())"
   ]
  },
  {
   "cell_type": "code",
   "execution_count": 87,
   "metadata": {},
   "outputs": [
    {
     "name": "stdout",
     "output_type": "stream",
     "text": [
      "Global clustering coefficient:  0.1764130391404384\n",
      "transitivity 0.00019366561746196487\n"
     ]
    }
   ],
   "source": [
    "def clustering_analysis(g):\n",
    "    print(\n",
    "        \"Global clustering coefficient: \",\n",
    "        g.transitivity_avglocal_undirected(mode=\"zero\"),\n",
    "    )\n",
    "    print(\"transitivity\", g.transitivity_undirected())"
   ]
  },
  {
   "cell_type": "code",
   "execution_count": 62,
   "metadata": {},
   "outputs": [],
   "source": [
    "def components_analysis(g):\n",
    "    components = g.components(mode=\"weak\")\n",
    "    isolated = components.sizes().count(1)\n",
    "    print(\"Number of isolated vertices: \", isolated)\n",
    "    print(\"Number of connected components: \", components.summary())\n",
    "    print(\"Largest connected component: \", components.giant().vcount())"
   ]
  },
  {
   "cell_type": "code",
   "execution_count": 63,
   "metadata": {},
   "outputs": [],
   "source": [
    "def centrality_analysis(g):\n",
    "    betweenness = g.betweenness()\n",
    "    highest_betweenness = g.vs.select(_betweenness=max(betweenness))\n",
    "    print(\n",
    "        f'Betweenness centrality: {np.mean(betweenness)}, highest betweenness: {highest_betweenness[\"id\"]}'\n",
    "    )\n",
    "\n",
    "    closeness = g.closeness()\n",
    "    highest_closeness = g.vs.select(_closeness=max(closeness))\n",
    "    print(\n",
    "        f'Closeness centrality: {np.mean(closeness)}, highest closeness: {highest_closeness[\"id\"]}'\n",
    "    )\n",
    "\n",
    "    pagerank = g.pagerank()\n",
    "    highest_pagerank = g.vs.select(_pagerank=max(pagerank))\n",
    "    print(\n",
    "        f'Pagerank centrality: {np.mean(pagerank)}, highest pagerank: {highest_pagerank[\"id\"]}'\n",
    "    )"
   ]
  },
  {
   "cell_type": "code",
   "execution_count": 64,
   "metadata": {},
   "outputs": [],
   "source": [
    "def visualize(g):\n",
    "    visual_style = {}\n",
    "    visual_style[\"vertex_size\"] = 20\n",
    "    visual_style[\"vertex_label\"] = g.vs[\"id\"]\n",
    "    visual_style[\"edge_width\"] = 1\n",
    "    visual_style[\"layout\"] = g.layout(\"kk\")  # Kamada-Kawai layout\n",
    "    plot(g, **visual_style)"
   ]
  },
  {
   "cell_type": "code",
   "execution_count": null,
   "metadata": {},
   "outputs": [],
   "source": []
  },
  {
   "cell_type": "code",
   "execution_count": 65,
   "metadata": {},
   "outputs": [
    {
     "name": "stdout",
     "output_type": "stream",
     "text": [
      "Number of vertices:  145269\n",
      "Number of edges:  830337\n",
      "Density:  3.934698740654333e-05\n"
     ]
    }
   ],
   "source": [
    "basic_stats(g_crates)"
   ]
  },
  {
   "cell_type": "code",
   "execution_count": 66,
   "metadata": {},
   "outputs": [
    {
     "name": "stdout",
     "output_type": "stream",
     "text": [
      "Max degree:  37632\n",
      "Min degree:  0\n",
      "Mean degree:  11.431716333147472\n",
      "Degree distribution:  mean: 11.431716333147309, sd: 187.1998318166331, variance: 35043.77703217571\n"
     ]
    }
   ],
   "source": [
    "degree_analysis(g_crates)"
   ]
  },
  {
   "cell_type": "code",
   "execution_count": 67,
   "metadata": {},
   "outputs": [
    {
     "name": "stdout",
     "output_type": "stream",
     "text": [
      "Diameter:  24\n",
      "Average path length:  7.58761621807268\n"
     ]
    }
   ],
   "source": [
    "path_analysis(g_crates)"
   ]
  },
  {
   "cell_type": "code",
   "execution_count": 76,
   "metadata": {},
   "outputs": [
    {
     "name": "stdout",
     "output_type": "stream",
     "text": [
      "Global clustering coefficient:  0.306198573203652\n",
      "transitivity 0.0013171994730663353\n"
     ]
    }
   ],
   "source": [
    "clustering_analysis(g_crates)"
   ]
  },
  {
   "cell_type": "code",
   "execution_count": 69,
   "metadata": {},
   "outputs": [
    {
     "name": "stdout",
     "output_type": "stream",
     "text": [
      "Number of connected components:  Clustering with 145269 elements and 25179 clusters\n",
      "Largest connected component:  119461\n"
     ]
    }
   ],
   "source": [
    "components_analysis(g_crates)"
   ]
  }
 ],
 "metadata": {
  "kernelspec": {
   "display_name": "ina",
   "language": "python",
   "name": "python3"
  },
  "language_info": {
   "codemirror_mode": {
    "name": "ipython",
    "version": 3
   },
   "file_extension": ".py",
   "mimetype": "text/x-python",
   "name": "python",
   "nbconvert_exporter": "python",
   "pygments_lexer": "ipython3",
   "version": "3.11.8"
  }
 },
 "nbformat": 4,
 "nbformat_minor": 2
}
