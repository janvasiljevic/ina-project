{
 "cells": [
  {
   "cell_type": "code",
   "execution_count": 2,
   "metadata": {},
   "outputs": [],
   "source": [
    "import igraph as ig\n",
    "from tqdm import tqdm\n",
    "import matplotlib.pyplot as plt\n",
    "from collections import Counter\n",
    "import pandas as pd\n",
    "import numpy as np"
   ]
  },
  {
   "cell_type": "code",
   "execution_count": 3,
   "metadata": {},
   "outputs": [
    {
     "name": "stderr",
     "output_type": "stream",
     "text": [
      "/tmp/ipykernel_41949/3860929966.py:1: RuntimeWarning: Could not add vertex ids, there is already an 'id' vertex attribute. at src/io/graphml.c:488\n",
      "  g_crates = ig.Graph.Read_GraphML(\"../../networks/crates_io_lcc.graphml\")\n",
      "/tmp/ipykernel_41949/3860929966.py:2: RuntimeWarning: Could not add vertex ids, there is already an 'id' vertex attribute. at src/io/graphml.c:488\n",
      "  g_pypi = ig.Graph.Read_GraphML(\"../../networks/pypi_lcc.graphml\")\n",
      "/tmp/ipykernel_41949/3860929966.py:3: RuntimeWarning: Could not add vertex ids, there is already an 'id' vertex attribute. at src/io/graphml.c:488\n",
      "  g_npm = ig.Graph.Read_GraphML(\"../../networks/npm_prod_lcc.graphml\")\n"
     ]
    }
   ],
   "source": [
    "g_crates = ig.Graph.Read_GraphML(\"../../networks/crates_io_lcc.graphml\")\n",
    "g_pypi = ig.Graph.Read_GraphML(\"../../networks/pypi_lcc.graphml\")\n",
    "g_npm = ig.Graph.Read_GraphML(\"../../networks/npm_prod_lcc.graphml\")"
   ]
  },
  {
   "cell_type": "code",
   "execution_count": 4,
   "metadata": {},
   "outputs": [
    {
     "name": "stdout",
     "output_type": "stream",
     "text": [
      "All nodes: 1518107\n",
      "vue in-component: 65938\n",
      "vue in-degree: 62625\n",
      "Percent:  4.12520329594686\n"
     ]
    }
   ],
   "source": [
    "package = \"vue\"\n",
    "\n",
    "print(\"All nodes:\", len(g_npm.vs))\n",
    "print(\n",
    "    f\"{package} in-component:\",\n",
    "    len(g_npm.subcomponent(g_npm.vs.find(name=package), mode=\"in\")),\n",
    ")\n",
    "print(f\"{package} in-degree:\", g_npm.vs.find(name=package).degree(mode=\"in\"))\n",
    "print(\n",
    "    \"Percent: \",\n",
    "    100 * g_npm.vs.find(name=package).degree(mode=\"in\") / len(g_npm.vs),\n",
    ")"
   ]
  },
  {
   "cell_type": "code",
   "execution_count": 19,
   "metadata": {},
   "outputs": [
    {
     "name": "stdout",
     "output_type": "stream",
     "text": [
      "Top 10 largest components:\n",
      "91 nodes\n",
      "85 nodes\n",
      "69 nodes\n",
      "43 nodes\n",
      "36 nodes\n",
      "24 nodes\n",
      "22 nodes\n",
      "21 nodes\n",
      "19 nodes\n",
      "19 nodes\n"
     ]
    }
   ],
   "source": [
    "components = g_npm.components()\n",
    "\n",
    "top_largest = sorted(\n",
    "    [(len(c), c) for c in components], key=lambda x: x[0], reverse=True\n",
    ")[:10]\n",
    "\n",
    "print(\"Top 10 largest components:\")\n",
    "for size, component in top_largest:\n",
    "    print(size, \"nodes\")"
   ]
  },
  {
   "cell_type": "code",
   "execution_count": 103,
   "metadata": {},
   "outputs": [],
   "source": [
    "crates_vulns = pd.read_csv(\"../vulnerability/cargo_grouped.csv\")\n",
    "npm_vulns = pd.read_csv(\"../vulnerability/npm_grouped.csv\")\n",
    "pypi_vulns = pd.read_csv(\"../vulnerability/pypi_grouped.csv\")"
   ]
  },
  {
   "cell_type": "code",
   "execution_count": 4,
   "metadata": {},
   "outputs": [
    {
     "name": "stdout",
     "output_type": "stream",
     "text": [
      "25 24629\n",
      "0 23330\n",
      "11 16302\n",
      "28 10513\n",
      "1 9150\n",
      "2 8891\n",
      "16 4958\n",
      "15 3724\n",
      "17 2593\n",
      "12 2347\n"
     ]
    }
   ],
   "source": [
    "def leiden_communities(graph):\n",
    "    communities = graph.as_undirected().community_leiden(\n",
    "        objective_function=\"modularity\", n_iterations=-1\n",
    "    )\n",
    "\n",
    "    lengths = [len(comm) for comm in communities]\n",
    "    args = np.argsort(lengths)[::-1]\n",
    "\n",
    "    for i in args[:10]:\n",
    "        print(i, lengths[i])\n",
    "\n",
    "    return communities\n",
    "\n",
    "\n",
    "communities = leiden_communities(g_crates)"
   ]
  },
  {
   "cell_type": "code",
   "execution_count": 121,
   "metadata": {},
   "outputs": [
    {
     "name": "stderr",
     "output_type": "stream",
     "text": [
      "471it [00:00, 5086.62it/s]\n"
     ]
    },
    {
     "data": {
      "text/plain": [
       "Counter({1: 100,\n",
       "         3: 77,\n",
       "         7: 70,\n",
       "         0: 69,\n",
       "         2: 34,\n",
       "         8: 21,\n",
       "         16: 14,\n",
       "         11: 12,\n",
       "         12: 10,\n",
       "         19: 10,\n",
       "         14: 9,\n",
       "         5: 7,\n",
       "         18: 5,\n",
       "         4: 4,\n",
       "         13: 3,\n",
       "         21: 1,\n",
       "         9: 1,\n",
       "         17: 1,\n",
       "         24: 1,\n",
       "         63: 1,\n",
       "         41: 1,\n",
       "         40: 1})"
      ]
     },
     "execution_count": 121,
     "metadata": {},
     "output_type": "execute_result"
    }
   ],
   "source": [
    "test = []\n",
    "for index, (date, package, ecosystem, score) in tqdm(\n",
    "    crates_vulns.iterrows(), desc=\"Enumerating vulnerabilities\"\n",
    "):\n",
    "    try:\n",
    "        package_id = g_crates.vs.find(name=package).index\n",
    "        comm = communities.membership[package_id]\n",
    "        test.append(comm)\n",
    "    except ValueError:\n",
    "        # Package is not in the graph\n",
    "        pass\n",
    "\n",
    "Counter(test)"
   ]
  },
  {
   "cell_type": "code",
   "execution_count": 20,
   "metadata": {},
   "outputs": [
    {
     "name": "stderr",
     "output_type": "stream",
     "text": [
      "975it [00:01, 682.18it/s]\n"
     ]
    }
   ],
   "source": [
    "package_to_in_component = {}\n",
    "\n",
    "for index, (date, package, ecosystem, score) in tqdm(crates_vulns.iterrows()):\n",
    "    if package not in package_to_in_component:\n",
    "        try:\n",
    "            node_index = g_crates.vs.find(name=package).index\n",
    "            package_to_in_component[package] = g_crates.subcomponent(\n",
    "                node_index, mode=\"in\"\n",
    "            )\n",
    "        except ValueError:\n",
    "            pass"
   ]
  },
  {
   "cell_type": "code",
   "execution_count": 67,
   "metadata": {},
   "outputs": [
    {
     "name": "stdout",
     "output_type": "stream",
     "text": [
      "238\n",
      "@zodash/save-as 92630\n",
      "@zodash/doreamon 85066\n",
      "@zodash/logger 78858\n",
      "@zodash/compose 68521\n",
      "@zodash/format 67810\n",
      "@zodash/get 65787\n",
      "@zodash/onion 65564\n",
      "@zodash/random 64617\n",
      "@zcorky/delay 63704\n",
      "@zcorky/query-string 63131\n",
      "@zodash/uuid 62676\n",
      "@zodash/event 62557\n",
      "@zodash/pick 62533\n",
      "@zodash/throttle 62447\n",
      "@zodash/omit 62017\n",
      "@zodash/fs 61954\n",
      "@zodash/camel-case 61937\n",
      "@zodash/to-path 61925\n",
      "@zodash/find 61899\n",
      "@zodash/ms 61750\n",
      "@zodash/delay 61546\n",
      "@zodash/dom 60860\n",
      "@zodash/group-by 60843\n",
      "@zodash/capitalize 60817\n",
      "@zodash/match 60739\n",
      "@zodash/memoize 60646\n",
      "@zodash/debug 60578\n",
      "@zodash/once 60131\n",
      "@zodash/jsonp 60107\n",
      "@zodash/unique 59918\n",
      "@zodash/snake-case 59770\n",
      "@zodash/load-script 59628\n",
      "@zodash/load-css 59529\n",
      "@zodash/load-js 59464\n",
      "@zodash/load-image 59162\n",
      "@zodash/error 57948\n",
      "@zcorky/deep-equal 57867\n",
      "@zodash/cookie 57689\n",
      "@zodash/cache 57069\n",
      "@zodash/copy 56277\n",
      "@zodash/down_load 55371\n",
      "@znode/fs 35290\n",
      "@zodash/map 33389\n",
      "@zodash/zip 31525\n",
      "@znode/execa 30690\n",
      "@znode/exit-codes 25828\n",
      "@cliz/core 22969\n",
      "@zodash/nobot-dingtalk 20293\n",
      "@zodash/nobot-feishu 20136\n",
      "@zodash/nobot 19961\n",
      "@zodash/nobot-wecom 19859\n",
      "@zodash/nobot-slack 19713\n",
      "@cliz/cli 19582\n",
      "@cliz/inlets 19345\n",
      "@koex/core 17739\n",
      "@doreamonjs/page-creator 14436\n",
      "@doreamonjs/application 14085\n",
      "@doreamonjs/gate 12522\n",
      "@cliz/web-terminal 12400\n",
      "@koex/passport 12074\n",
      "@zodash/template 11645\n",
      "@zodash/timeout 11533\n",
      "@doreamonjs/components 11491\n",
      "@koex/passport-oauth2 11398\n",
      "@koex/passport-github 11145\n",
      "@znode/config 10916\n",
      "@cliz/cp 10364\n",
      "@koex/passport-oauth2-config 10261\n",
      "@koex/passport-github-config 9968\n",
      "@znode/dotenv 9690\n",
      "@zodash/i18n 9354\n",
      "@zodash/open-file 9110\n",
      "@zodash/open-directory 9109\n",
      "@doreamonjs/plugin-shared 8368\n",
      "@doreamonjs/plugin-user 8012\n",
      "@cliz/web-ssh 7940\n",
      "@doreamonjs/request 7914\n",
      "@cliz/zpm 7413\n",
      "@koex/passport-local 7296\n",
      "@binquant/dex 7011\n",
      "@cliz/nobot 6655\n",
      "@cliz/supervisor 6615\n",
      "@cliz/yarn 6487\n",
      "@zodash/alias 6338\n",
      "@doreamonjs/plugin-form 6329\n",
      "@cliz/healthcheck 6213\n",
      "@zodash/routes-builder 6166\n",
      "@zodash/zip-object 6159\n",
      "@cliz/commit 6025\n",
      "@doreamonjs/plugin-analysis 5919\n",
      "@doreamonjs/plugin-message 5807\n",
      "@znode/node-info 5754\n",
      "thinkingdata-browser 5727\n",
      "@doreamonjs/sdk 5685\n",
      "@znode/os-info 5663\n",
      "@doreamonjs/plugin-function 5611\n",
      "@doreamonjs/plugin-application 5602\n",
      "@doreamonjs/plugin-confirm 5600\n",
      "@doreamonjs/plugin-authorization 5596\n",
      "@doreamonjs/plugin-dialog 5402\n"
     ]
    }
   ],
   "source": [
    "comm_index = 54\n",
    "\n",
    "print(len(comms[comm_index]))\n",
    "\n",
    "community = g_npm.subgraph(comms[comm_index])\n",
    "downloads = []\n",
    "for i in community.vs:\n",
    "    try:\n",
    "        downloads.append(int(i[\"downloads\"]))\n",
    "    except:\n",
    "        downloads.append(0)\n",
    "\n",
    "pr = community.pagerank()\n",
    "top_100 = sorted(\n",
    "    range(len(pr)),\n",
    "    key=lambda i: downloads[i],\n",
    "    reverse=True,\n",
    ")[:100]\n",
    "\n",
    "for i in top_100:\n",
    "    print(community.vs[i][\"name\"], community.vs[i][\"downloads\"])"
   ]
  },
  {
   "cell_type": "code",
   "execution_count": 10,
   "metadata": {},
   "outputs": [
    {
     "data": {
      "text/plain": [
       "Text(0.5, 0, 'Downloads')"
      ]
     },
     "execution_count": 10,
     "metadata": {},
     "output_type": "execute_result"
    },
    {
     "data": {
      "image/png": "[encoded data removed]",
      "text/plain": [
       "<Figure size 640x480 with 1 Axes>"
      ]
     },
     "metadata": {},
     "output_type": "display_data"
    }
   ],
   "source": [
    "pagerank = g_crates.pagerank()\n",
    "downloads = g_crates.vs[\"downloads\"]\n",
    "\n",
    "top_1000 = sorted(range(len(pagerank)), key=lambda i: pagerank[i], reverse=True)[:10000]\n",
    "\n",
    "top_1000_downloads = [int(downloads[i]) for i in top_1000]\n",
    "\n",
    "import matplotlib.pyplot as plt\n",
    "\n",
    "plt.scatter(top_1000_downloads, [pagerank[i] for i in top_1000])\n",
    "# plt.xscale(\"log\")\n",
    "# plt.yscale(\"log\")\n",
    "plt.ylabel(\"PageRank\")\n",
    "plt.xlabel(\"Downloads\")"
   ]
  }
 ],
 "metadata": {
  "kernelspec": {
   "display_name": "ina-project-26jY0_We-py3.11",
   "language": "python",
   "name": "python3"
  },
  "language_info": {
   "codemirror_mode": {
    "name": "ipython",
    "version": 3
   },
   "file_extension": ".py",
   "mimetype": "text/x-python",
   "name": "python",
   "nbconvert_exporter": "python",
   "pygments_lexer": "ipython3",
   "version": "3.11.8"
  }
 },
 "nbformat": 4,
 "nbformat_minor": 2
}
