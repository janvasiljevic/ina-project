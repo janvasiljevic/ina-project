{
 "cells": [
  {
   "cell_type": "code",
   "execution_count": 34,
   "metadata": {},
   "outputs": [],
   "source": [
    "from glob import glob\n",
    "import json\n",
    "import pandas as pd\n",
    "from cvss import CVSS3\n",
    "import datetime"
   ]
  },
  {
   "cell_type": "code",
   "execution_count": 47,
   "metadata": {},
   "outputs": [
    {
     "name": "stderr",
     "output_type": "stream",
     "text": [
      "/tmp/ipykernel_28740/733834047.py:28: FutureWarning: The behavior of DataFrame concatenation with empty or all-NA entries is deprecated. In a future version, this will no longer exclude empty or all-NA columns when determining the result dtypes. To retain the old behavior, exclude the relevant entries before the concat operation.\n",
      "  df = pd.concat(\n"
     ]
    }
   ],
   "source": [
    "PATH = \"../../advisory-database/advisories/github-reviewed\"\n",
    "\n",
    "df = pd.DataFrame(columns=[\"date\", \"package\", \"ecosystem\", \"score\"])\n",
    "for i, file in enumerate(glob(f\"{PATH}/**/*.json\", recursive=True)):\n",
    "    with open(file, \"r\") as f:\n",
    "        data = json.load(f)\n",
    "\n",
    "    date = datetime.datetime.fromisoformat(data[\"published\"])\n",
    "    if len(data[\"severity\"]) > 0:\n",
    "        vector = data[\"severity\"][0][\"score\"]\n",
    "        score = CVSS3(vector).base_score\n",
    "    else:\n",
    "        name = data[\"database_specific\"][\"severity\"]\n",
    "        match name:\n",
    "            case \"LOW\":\n",
    "                score = 3\n",
    "            case \"MODERATE\":\n",
    "                score = 5\n",
    "            case \"HIGH\":\n",
    "                score = 8\n",
    "            case \"CRITICAL\":\n",
    "                score = 10\n",
    "\n",
    "    for package in data[\"affected\"]:\n",
    "        package = package[\"package\"]\n",
    "        eco = package.get(\"ecosystem\", None)\n",
    "        if eco in [\"crates.io\", \"npm\", \"PyPI\"]:\n",
    "            df = pd.concat(\n",
    "                (\n",
    "                    df,\n",
    "                    pd.DataFrame(\n",
    "                        [[date, package[\"name\"], eco, score]], columns=df.columns\n",
    "                    ),\n",
    "                )\n",
    "            )"
   ]
  },
  {
   "cell_type": "code",
   "execution_count": 49,
   "metadata": {},
   "outputs": [],
   "source": [
    "npm_df = df[df[\"ecosystem\"] == \"npm\"]\n",
    "cargo_df = df[df[\"ecosystem\"] == \"crates.io\"]\n",
    "pypi_df = df[df[\"ecosystem\"] == \"PyPI\"]"
   ]
  },
  {
   "cell_type": "code",
   "execution_count": 53,
   "metadata": {},
   "outputs": [],
   "source": [
    "npm_df.to_csv(\"npm.csv\", index=False)\n",
    "cargo_df.to_csv(\"cargo.csv\", index=False)\n",
    "pypi_df.to_csv(\"pypi.csv\", index=False)"
   ]
  }
 ],
 "metadata": {
  "kernelspec": {
   "display_name": "ina-project-26jY0_We-py3.11",
   "language": "python",
   "name": "python3"
  },
  "language_info": {
   "codemirror_mode": {
    "name": "ipython",
    "version": 3
   },
   "file_extension": ".py",
   "mimetype": "text/x-python",
   "name": "python",
   "nbconvert_exporter": "python",
   "pygments_lexer": "ipython3",
   "version": "3.11.8"
  }
 },
 "nbformat": 4,
 "nbformat_minor": 2
}
