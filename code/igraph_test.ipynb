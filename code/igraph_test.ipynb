{
 "cells": [
  {
   "cell_type": "code",
   "execution_count": 3,
   "metadata": {},
   "outputs": [],
   "source": [
    "import igraph as ig\n",
    "import networkx as nx\n",
    "import time\n",
    "\n",
    "\n",
    "def test_speed(file):\n",
    "    t0 = time.time()\n",
    "    nx.read_pajek(file)\n",
    "    t1 = time.time()\n",
    "\n",
    "    print(file)\n",
    "    print(\"networkx: \", t1 - t0)\n",
    "    t0 = time.time()\n",
    "    ig.read(file)\n",
    "    t1 = time.time()\n",
    "\n",
    "    print(\"igraph: \", t1 - t0)"
   ]
  },
  {
   "cell_type": "code",
   "execution_count": 5,
   "metadata": {},
   "outputs": [
    {
     "name": "stdout",
     "output_type": "stream",
     "text": [
      "../networks/npm_graph_full.net\n",
      "networkx:  412.34669041633606\n",
      "igraph:  16.206156492233276\n",
      "../networks/python-dependencies.net\n",
      "networkx:  30.733910083770752\n",
      "igraph:  1.191986322402954\n",
      "../networks/crates_io.net\n",
      "networkx:  15.780632257461548\n",
      "igraph:  0.6203320026397705\n"
     ]
    }
   ],
   "source": [
    "test_speed(\"../networks/npm_graph_full.net\")\n",
    "test_speed(\"../networks/python-dependencies.net\")\n",
    "test_speed(\"../networks/crates_io.net\")"
   ]
  }
 ],
 "metadata": {
  "kernelspec": {
   "display_name": "ina-project-26jY0_We-py3.11",
   "language": "python",
   "name": "python3"
  },
  "language_info": {
   "codemirror_mode": {
    "name": "ipython",
    "version": 3
   },
   "file_extension": ".py",
   "mimetype": "text/x-python",
   "name": "python",
   "nbconvert_exporter": "python",
   "pygments_lexer": "ipython3",
   "version": "3.11.8"
  }
 },
 "nbformat": 4,
 "nbformat_minor": 2
}
