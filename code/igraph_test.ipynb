{
   "cells": [
      {
         "cell_type": "code",
         "execution_count": 1,
         "metadata": {},
         "outputs": [],
         "source": [
            "import igraph as ig\n",
            "import networkx as nx\n",
            "import time\n",
            "\n",
            "\n",
            "def test_speed(file):\n",
            "    t0 = time.time()\n",
            "    nx.read_pajek(file)\n",
            "    t1 = time.time()\n",
            "\n",
            "    print(file)\n",
            "    print(\"networkx: \", t1 - t0)\n",
            "    t0 = time.time()\n",
            "    ig.read(file)\n",
            "    t1 = time.time()\n",
            "\n",
            "    print(\"igraph: \", t1 - t0)"
         ]
      },
      {
         "cell_type": "code",
         "execution_count": 2,
         "metadata": {},
         "outputs": [],
         "source": [
            "# test_speed(\"../networks/npm_graph_full.net\")\n",
            "# test_speed(\"../networks/python-dependencies.net\")\n",
            "# test_speed(\"../networks/crates_io.net\")"
         ]
      },
      {
         "cell_type": "code",
         "execution_count": 3,
         "metadata": {},
         "outputs": [],
         "source": [
            "ig_graph = ig.read(\"../networks/npm_graph_full.net\")"
         ]
      },
      {
         "cell_type": "code",
         "execution_count": 4,
         "metadata": {},
         "outputs": [
            {
               "name": "stdout",
               "output_type": "stream",
               "text": [
                  "igraph clustering: 0.26062738359591425 (3.5872647762298584s)\n"
               ]
            }
         ],
         "source": [
            "t0 = time.time()\n",
            "c = ig_graph.transitivity_avglocal_undirected()\n",
            "print(f\"igraph clustering: {c} ({time.time() - t0}s)\")"
         ]
      },
      {
         "cell_type": "code",
         "execution_count": 5,
         "metadata": {},
         "outputs": [
            {
               "name": "stdout",
               "output_type": "stream",
               "text": [
                  "igraph weak: 1845838 (0.7637920379638672s)\n"
               ]
            }
         ],
         "source": [
            "t0 = time.time()\n",
            "weak_components = ig_graph.connected_components(mode=\"weak\")\n",
            "print(f\"igraph weak: {len(weak_components[0])} ({time.time() - t0}s)\")"
         ]
      },
      {
         "cell_type": "code",
         "execution_count": 6,
         "metadata": {},
         "outputs": [
            {
               "name": "stdout",
               "output_type": "stream",
               "text": [
                  "igraph.Vertex(<igraph.Graph object at 0x7f7875508c50>, 1375151, {'id': '2412686', 'name': '2412686', 'x': 0.0, 'y': 0.0, 'shape': 'ellipse', 'name_': 'react', 'downloads': '2907303439', 'repository': 'https://github.com/facebook/react'})\n",
                  "igraph weak: 23201 (0.007105588912963867s)\n"
               ]
            }
         ],
         "source": [
            "index = ig_graph.vs.find(name_=\"react\").index\n",
            "\n",
            "t0 = time.time()\n",
            "out_component = ig_graph.subcomponent(index, mode=\"out\")\n",
            "print(ig_graph.vs[index])\n",
            "print(f\"igraph weak: {len(out_component)} ({time.time() - t0}s)\")"
         ]
      },
      {
         "cell_type": "code",
         "execution_count": null,
         "metadata": {},
         "outputs": [
            {
               "ename": "KeyboardInterrupt",
               "evalue": "",
               "output_type": "error",
               "traceback": [
                  "\u001b[0;31m---------------------------------------------------------------------------\u001b[0m",
                  "\u001b[0;31mKeyboardInterrupt\u001b[0m                         Traceback (most recent call last)",
                  "Cell \u001b[0;32mIn[7], line 2\u001b[0m\n\u001b[1;32m      1\u001b[0m t0 \u001b[38;5;241m=\u001b[39m time\u001b[38;5;241m.\u001b[39mtime()\n\u001b[0;32m----> 2\u001b[0m communities \u001b[38;5;241m=\u001b[39m \u001b[43mig_graph\u001b[49m\u001b[38;5;241;43m.\u001b[39;49m\u001b[43mcommunity_label_propagation\u001b[49m\u001b[43m(\u001b[49m\u001b[43m)\u001b[49m\n\u001b[1;32m      3\u001b[0m \u001b[38;5;28mprint\u001b[39m(\u001b[38;5;124mf\u001b[39m\u001b[38;5;124m\"\u001b[39m\u001b[38;5;124migraph communities: \u001b[39m\u001b[38;5;132;01m{\u001b[39;00m\u001b[38;5;28mlen\u001b[39m(communities)\u001b[38;5;132;01m}\u001b[39;00m\u001b[38;5;124m (\u001b[39m\u001b[38;5;132;01m{\u001b[39;00mtime\u001b[38;5;241m.\u001b[39mtime()\u001b[38;5;250m \u001b[39m\u001b[38;5;241m-\u001b[39m\u001b[38;5;250m \u001b[39mt0\u001b[38;5;132;01m}\u001b[39;00m\u001b[38;5;124ms)\u001b[39m\u001b[38;5;124m\"\u001b[39m)\n",
                  "File \u001b[0;32m~/.cache/pypoetry/virtualenvs/ina-project-26jY0_We-py3.11/lib/python3.11/site-packages/igraph/community.py:146\u001b[0m, in \u001b[0;36m_community_label_propagation\u001b[0;34m(graph, weights, initial, fixed)\u001b[0m\n\u001b[1;32m    144\u001b[0m \u001b[38;5;28;01mif\u001b[39;00m \u001b[38;5;28misinstance\u001b[39m(fixed, \u001b[38;5;28mstr\u001b[39m):\n\u001b[1;32m    145\u001b[0m     fixed \u001b[38;5;241m=\u001b[39m [\u001b[38;5;28mbool\u001b[39m(o) \u001b[38;5;28;01mfor\u001b[39;00m o \u001b[38;5;129;01min\u001b[39;00m graph\u001b[38;5;241m.\u001b[39mvs[fixed]]\n\u001b[0;32m--> 146\u001b[0m cl \u001b[38;5;241m=\u001b[39m \u001b[43mGraphBase\u001b[49m\u001b[38;5;241;43m.\u001b[39;49m\u001b[43mcommunity_label_propagation\u001b[49m\u001b[43m(\u001b[49m\u001b[43mgraph\u001b[49m\u001b[43m,\u001b[49m\u001b[43m \u001b[49m\u001b[43mweights\u001b[49m\u001b[43m,\u001b[49m\u001b[43m \u001b[49m\u001b[43minitial\u001b[49m\u001b[43m,\u001b[49m\u001b[43m \u001b[49m\u001b[43mfixed\u001b[49m\u001b[43m)\u001b[49m\n\u001b[1;32m    147\u001b[0m \u001b[38;5;28;01mreturn\u001b[39;00m VertexClustering(graph, cl, modularity_params\u001b[38;5;241m=\u001b[39m{\u001b[38;5;124m\"\u001b[39m\u001b[38;5;124mweights\u001b[39m\u001b[38;5;124m\"\u001b[39m: weights})\n",
                  "\u001b[0;31mKeyboardInterrupt\u001b[0m: "
               ]
            }
         ],
         "source": [
            "t0 = time.time()\n",
            "communities = ig_graph.community_label_propagation()\n",
            "print(f\"igraph communities: {len(communities)} ({time.time() - t0}s)\")"
         ]
      }
   ],
   "metadata": {
      "kernelspec": {
         "display_name": "ina-project-26jY0_We-py3.11",
         "language": "python",
         "name": "python3"
      },
      "language_info": {
         "codemirror_mode": {
            "name": "ipython",
            "version": 3
         },
         "file_extension": ".py",
         "mimetype": "text/x-python",
         "name": "python",
         "nbconvert_exporter": "python",
         "pygments_lexer": "ipython3",
         "version": "3.12.2"
      }
   },
   "nbformat": 4,
   "nbformat_minor": 2
}