{
 "cells": [
  {
   "cell_type": "code",
   "execution_count": 1,
   "metadata": {},
   "outputs": [],
   "source": [
    "import networkx as nx\n",
    "import psycopg2\n",
    "from tqdm import tqdm\n",
    "\n",
    "\n",
    "conn = psycopg2.connect(\n",
    "    database=\"npm_data\", host=\"localhost\", user=\"postgres\", password=\"secret\"\n",
    ")\n",
    "cursor = conn.cursor()"
   ]
  },
  {
   "cell_type": "code",
   "execution_count": 2,
   "metadata": {},
   "outputs": [],
   "source": [
    "cursor.execute(\n",
    "    \"\"\"SELECT packages.id, packages.name, packages.dist_tag_latest_version, versions.repository_parsed, (SELECT SUM(s.counter) FROM UNNEST(download_metrics.download_counts) s) as downloads\n",
    "        FROM packages\n",
    "        JOIN download_metrics ON packages.id = download_metrics.package_id\n",
    "        JOIN versions ON packages.dist_tag_latest_version = versions.id\n",
    "        WHERE \n",
    "            current_package_state_type='normal' AND\n",
    "            dist_tag_latest_version IS NOT NULL\"\"\"\n",
    ")\n",
    "\n",
    "all_packages = cursor.fetchall()"
   ]
  },
  {
   "cell_type": "code",
   "execution_count": 3,
   "metadata": {},
   "outputs": [
    {
     "name": "stdout",
     "output_type": "stream",
     "text": [
      "Graph with 2423835 nodes created\n"
     ]
    }
   ],
   "source": [
    "graph = nx.DiGraph()\n",
    "\n",
    "graph.add_nodes_from(\n",
    "    [\n",
    "        (\n",
    "            id,\n",
    "            {\n",
    "                \"name\": name,\n",
    "                \"repository\": repository[1:].split(\",\")[0] if repository else None,\n",
    "                \"downloads\": str(downloads),\n",
    "            },\n",
    "        )\n",
    "        for id, name, _, repository, downloads in all_packages\n",
    "    ]\n",
    ")\n",
    "print(f\"Graph with {graph.number_of_nodes()} nodes created\")"
   ]
  },
  {
   "cell_type": "code",
   "execution_count": 4,
   "metadata": {},
   "outputs": [
    {
     "name": "stderr",
     "output_type": "stream",
     "text": [
      "100%|██████████| 2423835/2423835 [19:28<00:00, 2074.45it/s]\n"
     ]
    },
    {
     "name": "stdout",
     "output_type": "stream",
     "text": [
      "Graph with 2424918 nodes and 7928230 edges created\n"
     ]
    }
   ],
   "source": [
    "get_dev_deps = False\n",
    "if get_dev_deps:\n",
    "    join_str = \"JOIN dependencies ON dependencies.id = ANY(versions.prod_dependencies) OR dependencies.id = ANY(versions.dev_dependencies)\"\n",
    "else:\n",
    "    join_str = \"JOIN dependencies ON dependencies.id = ANY(versions.prod_dependencies)\"\n",
    "\n",
    "for id, _, version_id, _, _ in tqdm(all_packages):\n",
    "    cursor.execute(\n",
    "        f\"\"\"SELECT dependencies.dst_package_id_if_exists\n",
    "                FROM versions\n",
    "                {join_str}\n",
    "                WHERE versions.id={version_id} AND\n",
    "                    dependencies.dst_package_id_if_exists IS NOT NULL\"\"\",\n",
    "    )\n",
    "\n",
    "    dependencies = cursor.fetchall()\n",
    "    edges = [(id, dst) for (dst,) in dependencies]\n",
    "    graph.add_edges_from(edges)\n",
    "\n",
    "print(\n",
    "    f\"Graph with {graph.number_of_nodes()} nodes and {graph.number_of_edges()} edges created\"\n",
    ")"
   ]
  },
  {
   "cell_type": "code",
   "execution_count": 5,
   "metadata": {},
   "outputs": [
    {
     "name": "stderr",
     "output_type": "stream",
     "text": [
      "/home/matej/.cache/pypoetry/virtualenvs/ina-project-26jY0_We-py3.11/lib/python3.11/site-packages/networkx/readwrite/pajek.py:75: UserWarning: Node attribute repository is not processed. Non-string attribute.\n",
      "  warnings.warn(\n"
     ]
    }
   ],
   "source": [
    "nx.write_pajek(graph, \"npm_graph_prod.net\")"
   ]
  },
  {
   "cell_type": "code",
   "execution_count": 35,
   "metadata": {},
   "outputs": [
    {
     "name": "stdout",
     "output_type": "stream",
     "text": [
      "{'name': 'express', 'repository': 'https://github.com/expressjs/express', 'downloads': '2384861834'}\n"
     ]
    }
   ],
   "source": [
    "print(graph.nodes[2207340])\n",
    "\n",
    "s1 = {graph.nodes[n][\"name\"] for n in graph.neighbors(2207340)}"
   ]
  },
  {
   "cell_type": "code",
   "execution_count": 40,
   "metadata": {},
   "outputs": [],
   "source": [
    "# print top 10 degree nodes\n",
    "top10_in = sorted(graph.in_degree, key=lambda x: x[1], reverse=True)[:10]\n",
    "top10_out = sorted(graph.out_degree, key=lambda x: x[1], reverse=True)[:10]"
   ]
  },
  {
   "cell_type": "code",
   "execution_count": 42,
   "metadata": {},
   "outputs": [
    {
     "name": "stdout",
     "output_type": "stream",
     "text": [
      "Top 10 in-degree nodes:\n",
      "typescript - 486570\n",
      "eslint - 411491\n",
      "@types/node - 254491\n",
      "mocha - 247154\n",
      "jest - 231394\n",
      "prettier - 226916\n",
      "react - 223797\n",
      "webpack - 197805\n",
      "@babel/core - 182003\n",
      "react-dom - 173274\n",
      "\n",
      "Top 10 out-degree nodes:\n",
      "sindresorhus.js - 1000\n",
      "potionseller - 1000\n",
      "1000-packages - 1000\n",
      "bloater - 998\n",
      "m2m-chartjs-plugin-crosshair - 979\n",
      "npm-all-packages - 977\n",
      "digital-keyboard-demos - 976\n",
      "u-library - 963\n",
      "design-system-fitbank-450 - 962\n",
      "dfeuk-frontend-manual - 961\n"
     ]
    }
   ],
   "source": [
    "print(\"Top 10 in-degree nodes:\")\n",
    "for node, degree in top10_in:\n",
    "    print(f\"{graph.nodes[node]['name']} - {degree}\")\n",
    "print()\n",
    "print(\"Top 10 out-degree nodes:\")\n",
    "for node, degree in top10_out:\n",
    "    print(f\"{graph.nodes[node]['name']} - {degree}\")"
   ]
  }
 ],
 "metadata": {
  "kernelspec": {
   "display_name": "ina-project-26jY0_We-py3.11",
   "language": "python",
   "name": "python3"
  },
  "language_info": {
   "codemirror_mode": {
    "name": "ipython",
    "version": 3
   },
   "file_extension": ".py",
   "mimetype": "text/x-python",
   "name": "python",
   "nbconvert_exporter": "python",
   "pygments_lexer": "ipython3",
   "version": "3.11.8"
  }
 },
 "nbformat": 4,
 "nbformat_minor": 2
}
