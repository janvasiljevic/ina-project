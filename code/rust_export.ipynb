{
 "cells": [
  {
   "cell_type": "markdown",
   "metadata": {},
   "source": [
    "# Rust Export\n",
    "\n",
    "Author: Jan\n",
    "\n",
    "The goal of this notebook is to take the raw data download from crates.io and export into a nice single file for use with networkx later by other team members.\n"
   ]
  },
  {
   "cell_type": "code",
   "execution_count": 146,
   "metadata": {},
   "outputs": [],
   "source": [
    "import os\n",
    "import pandas as pd\n",
    "from tqdm import tqdm\n",
    "import networkx as nx\n",
    "import seaborn as sns\n",
    "import matplotlib.pyplot as plt\n",
    "from collections import Counter\n",
    "\n",
    "sns.set_theme(style=\"whitegrid\")"
   ]
  },
  {
   "cell_type": "code",
   "execution_count": 4,
   "metadata": {},
   "outputs": [],
   "source": [
    "data_path = \"../data/rust-raw/data\""
   ]
  },
  {
   "cell_type": "code",
   "execution_count": 115,
   "metadata": {},
   "outputs": [
    {
     "name": "stdout",
     "output_type": "stream",
     "text": [
      "Number of crates:  145269\n",
      "Index(['created_at', 'description', 'documentation', 'homepage', 'id',\n",
      "       'max_features', 'max_upload_size', 'name', 'readme', 'repository',\n",
      "       'updated_at'],\n",
      "      dtype='object')\n",
      "Number of dependencies:  10351159\n",
      "Index(['crate_id', 'default_features', 'explicit_name', 'features', 'id',\n",
      "       'kind', 'optional', 'req', 'target', 'version_id'],\n",
      "      dtype='object')\n",
      "Number of versions:  1122075\n",
      "Index(['checksum', 'crate_id', 'crate_size', 'created_at', 'downloads',\n",
      "       'features', 'id', 'license', 'links', 'num', 'published_by',\n",
      "       'rust_version', 'updated_at', 'yanked'],\n",
      "      dtype='object')\n",
      "Number of downloads:  145269\n",
      "Index(['crate_id', 'downloads'], dtype='object')\n"
     ]
    }
   ],
   "source": [
    "crates = pd.read_csv(os.path.join(data_path, \"crates.csv\"))\n",
    "dependencies = pd.read_csv(os.path.join(data_path, \"dependencies.csv\"))\n",
    "versions = pd.read_csv(os.path.join(data_path, \"versions.csv\"))\n",
    "download = pd.read_csv(os.path.join(data_path, \"crate_downloads.csv\"))\n",
    "\n",
    "print(\"Number of crates: \", len(crates))\n",
    "print(crates.columns)\n",
    "\n",
    "print(\"Number of dependencies: \", len(dependencies))\n",
    "print(dependencies.columns)\n",
    "\n",
    "print(\"Number of versions: \", len(versions))\n",
    "print(versions.columns)\n",
    "\n",
    "print(\"Number of downloads: \", len(download))\n",
    "print(download.columns)"
   ]
  },
  {
   "cell_type": "code",
   "execution_count": 116,
   "metadata": {},
   "outputs": [
    {
     "name": "stderr",
     "output_type": "stream",
     "text": [
      "Adding nodes: 100%|██████████| 145269/145269 [00:16<00:00, 8556.73it/s]\n"
     ]
    }
   ],
   "source": [
    "G = nx.DiGraph()\n",
    "\n",
    "# First get all nodes\n",
    "for i, row in tqdm(\n",
    "    crates[[\"id\", \"created_at\", \"name\", \"repository\"]].iterrows(),\n",
    "    total=len(crates),\n",
    "    desc=\"Adding nodes\",\n",
    "):\n",
    "    crate_id, created_at, name, repository = row\n",
    "    num_of_downloads = download[download[\"crate_id\"] == crate_id][\"downloads\"].values[0]\n",
    "\n",
    "    G.add_node(\n",
    "        crate_id,\n",
    "        name=name,\n",
    "        repository=repository,\n",
    "        created_at=created_at,\n",
    "        downloads=str(num_of_downloads),\n",
    "    )"
   ]
  },
  {
   "cell_type": "code",
   "execution_count": 117,
   "metadata": {},
   "outputs": [
    {
     "data": {
      "text/html": [
       "<div>\n",
       "<style scoped>\n",
       "    .dataframe tbody tr th:only-of-type {\n",
       "        vertical-align: middle;\n",
       "    }\n",
       "\n",
       "    .dataframe tbody tr th {\n",
       "        vertical-align: top;\n",
       "    }\n",
       "\n",
       "    .dataframe thead th {\n",
       "        text-align: right;\n",
       "    }\n",
       "</style>\n",
       "<table border=\"1\" class=\"dataframe\">\n",
       "  <thead>\n",
       "    <tr style=\"text-align: right;\">\n",
       "      <th></th>\n",
       "      <th>checksum</th>\n",
       "      <th>crate_id</th>\n",
       "      <th>crate_size</th>\n",
       "      <th>created_at</th>\n",
       "      <th>downloads</th>\n",
       "      <th>features</th>\n",
       "      <th>id</th>\n",
       "      <th>license</th>\n",
       "      <th>links</th>\n",
       "      <th>num</th>\n",
       "      <th>published_by</th>\n",
       "      <th>rust_version</th>\n",
       "      <th>updated_at</th>\n",
       "      <th>yanked</th>\n",
       "    </tr>\n",
       "    <tr>\n",
       "      <th>crate_id</th>\n",
       "      <th></th>\n",
       "      <th></th>\n",
       "      <th></th>\n",
       "      <th></th>\n",
       "      <th></th>\n",
       "      <th></th>\n",
       "      <th></th>\n",
       "      <th></th>\n",
       "      <th></th>\n",
       "      <th></th>\n",
       "      <th></th>\n",
       "      <th></th>\n",
       "      <th></th>\n",
       "      <th></th>\n",
       "    </tr>\n",
       "  </thead>\n",
       "  <tbody>\n",
       "    <tr>\n",
       "      <th>6</th>\n",
       "      <td>b16afcea1f22891c49a00c751c7b63b2233284064f11a2...</td>\n",
       "      <td>6</td>\n",
       "      <td>51844.0</td>\n",
       "      <td>2023-08-07 18:51:10.671183</td>\n",
       "      <td>10126732</td>\n",
       "      <td>{\"default\": [\"xattr\"]}</td>\n",
       "      <td>866039</td>\n",
       "      <td>MIT/Apache-2.0</td>\n",
       "      <td>NaN</td>\n",
       "      <td>0.4.40</td>\n",
       "      <td>1.0</td>\n",
       "      <td>NaN</td>\n",
       "      <td>2023-08-07 18:51:10.671183</td>\n",
       "      <td>f</td>\n",
       "    </tr>\n",
       "    <tr>\n",
       "      <th>7</th>\n",
       "      <td>61697e0a1c7e512e84a621326239844a24d8207b4669b4...</td>\n",
       "      <td>7</td>\n",
       "      <td>30622.0</td>\n",
       "      <td>2024-05-07 02:16:24.444335</td>\n",
       "      <td>90703</td>\n",
       "      <td>{\"std\": [], \"default\": [\"std\"]}</td>\n",
       "      <td>1136648</td>\n",
       "      <td>MIT OR Apache-2.0</td>\n",
       "      <td>NaN</td>\n",
       "      <td>1.0.23</td>\n",
       "      <td>3618.0</td>\n",
       "      <td>1.31</td>\n",
       "      <td>2024-05-07 02:16:24.444335</td>\n",
       "      <td>f</td>\n",
       "    </tr>\n",
       "    <tr>\n",
       "      <th>8</th>\n",
       "      <td>d2fabcfbdc87f4758337ca535fb41a6d701b65693ce382...</td>\n",
       "      <td>8</td>\n",
       "      <td>18880.0</td>\n",
       "      <td>2023-01-06 14:36:38.757028</td>\n",
       "      <td>51284660</td>\n",
       "      <td>{}</td>\n",
       "      <td>697402</td>\n",
       "      <td>MIT OR Apache-2.0</td>\n",
       "      <td>NaN</td>\n",
       "      <td>0.3.1</td>\n",
       "      <td>55123.0</td>\n",
       "      <td>NaN</td>\n",
       "      <td>2023-01-06 14:36:38.757028</td>\n",
       "      <td>f</td>\n",
       "    </tr>\n",
       "    <tr>\n",
       "      <th>9</th>\n",
       "      <td>3135b08af27d103b0a51f2ae0f8632117b7b185ccf9314...</td>\n",
       "      <td>9</td>\n",
       "      <td>9557.0</td>\n",
       "      <td>2024-04-12 22:51:05.282676</td>\n",
       "      <td>438553</td>\n",
       "      <td>{\"std\": [\"num-bigint/std\", \"num-complex/std\", ...</td>\n",
       "      <td>1113849</td>\n",
       "      <td>MIT OR Apache-2.0</td>\n",
       "      <td>NaN</td>\n",
       "      <td>0.4.2</td>\n",
       "      <td>539.0</td>\n",
       "      <td>NaN</td>\n",
       "      <td>2024-04-12 22:51:05.282676</td>\n",
       "      <td>f</td>\n",
       "    </tr>\n",
       "    <tr>\n",
       "      <th>10</th>\n",
       "      <td>a183cf7feeba97b4dd1c0d46788634f6221d87fa961b30...</td>\n",
       "      <td>10</td>\n",
       "      <td>44043.0</td>\n",
       "      <td>2024-03-19 00:20:38.05886</td>\n",
       "      <td>4186341</td>\n",
       "      <td>{\"js\": [\"dep:wasm-bindgen\", \"getrandom?/js\"], ...</td>\n",
       "      <td>1087457</td>\n",
       "      <td>Apache-2.0 OR MIT</td>\n",
       "      <td>NaN</td>\n",
       "      <td>1.8.0</td>\n",
       "      <td>3204.0</td>\n",
       "      <td>1.60.0</td>\n",
       "      <td>2024-03-19 00:20:38.05886</td>\n",
       "      <td>f</td>\n",
       "    </tr>\n",
       "  </tbody>\n",
       "</table>\n",
       "</div>"
      ],
      "text/plain": [
       "                                                   checksum  crate_id  \\\n",
       "crate_id                                                                \n",
       "6         b16afcea1f22891c49a00c751c7b63b2233284064f11a2...         6   \n",
       "7         61697e0a1c7e512e84a621326239844a24d8207b4669b4...         7   \n",
       "8         d2fabcfbdc87f4758337ca535fb41a6d701b65693ce382...         8   \n",
       "9         3135b08af27d103b0a51f2ae0f8632117b7b185ccf9314...         9   \n",
       "10        a183cf7feeba97b4dd1c0d46788634f6221d87fa961b30...        10   \n",
       "\n",
       "          crate_size                  created_at  downloads  \\\n",
       "crate_id                                                      \n",
       "6            51844.0  2023-08-07 18:51:10.671183   10126732   \n",
       "7            30622.0  2024-05-07 02:16:24.444335      90703   \n",
       "8            18880.0  2023-01-06 14:36:38.757028   51284660   \n",
       "9             9557.0  2024-04-12 22:51:05.282676     438553   \n",
       "10           44043.0   2024-03-19 00:20:38.05886    4186341   \n",
       "\n",
       "                                                   features       id  \\\n",
       "crate_id                                                               \n",
       "6                                    {\"default\": [\"xattr\"]}   866039   \n",
       "7                           {\"std\": [], \"default\": [\"std\"]}  1136648   \n",
       "8                                                        {}   697402   \n",
       "9         {\"std\": [\"num-bigint/std\", \"num-complex/std\", ...  1113849   \n",
       "10        {\"js\": [\"dep:wasm-bindgen\", \"getrandom?/js\"], ...  1087457   \n",
       "\n",
       "                    license links     num  published_by rust_version  \\\n",
       "crate_id                                                               \n",
       "6            MIT/Apache-2.0   NaN  0.4.40           1.0          NaN   \n",
       "7         MIT OR Apache-2.0   NaN  1.0.23        3618.0         1.31   \n",
       "8         MIT OR Apache-2.0   NaN   0.3.1       55123.0          NaN   \n",
       "9         MIT OR Apache-2.0   NaN   0.4.2         539.0          NaN   \n",
       "10        Apache-2.0 OR MIT   NaN   1.8.0        3204.0       1.60.0   \n",
       "\n",
       "                          updated_at yanked  \n",
       "crate_id                                     \n",
       "6         2023-08-07 18:51:10.671183      f  \n",
       "7         2024-05-07 02:16:24.444335      f  \n",
       "8         2023-01-06 14:36:38.757028      f  \n",
       "9         2024-04-12 22:51:05.282676      f  \n",
       "10         2024-03-19 00:20:38.05886      f  "
      ]
     },
     "execution_count": 117,
     "metadata": {},
     "output_type": "execute_result"
    }
   ],
   "source": [
    "# Group version by crate_id and get the latest version\n",
    "latest_versions = versions.groupby(\"crate_id\").apply(\n",
    "    lambda x: x.sort_values(\"id\", ascending=False).iloc[0]\n",
    ")\n",
    "\n",
    "latest_versions.head()"
   ]
  },
  {
   "cell_type": "code",
   "execution_count": 118,
   "metadata": {},
   "outputs": [
    {
     "name": "stderr",
     "output_type": "stream",
     "text": [
      "Adding edges: 100%|██████████| 145269/145269 [09:51<00:00, 245.60it/s]\n"
     ]
    }
   ],
   "source": [
    "for crate_id in tqdm(\n",
    "    crates[\"id\"].values,\n",
    "    total=len(crates),\n",
    "    desc=\"Adding edges\",\n",
    "):\n",
    "    latest_version = latest_versions[latest_versions[\"crate_id\"] == crate_id].iloc[0]\n",
    "\n",
    "    # We the latest version, we can get the dependencies (of the latest version of the crate)\n",
    "    deps = dependencies[dependencies[\"version_id\"] == latest_version[\"id\"]]\n",
    "\n",
    "    for j, dep_id in deps[[\"crate_id\"]].itertuples():\n",
    "        # Add edge from the crate to its dependency\n",
    "        G.add_edge(crate_id, dep_id)\n",
    "\n",
    "        # Get the dependency name\n",
    "        # dep_name = crates[crates[\"id\"] == dep_id][\"name\"].values[0]\n",
    "        # print(f\"{j}: {name} has a dep {dep_name} with id {dep_id}\")"
   ]
  },
  {
   "cell_type": "code",
   "execution_count": 119,
   "metadata": {},
   "outputs": [],
   "source": [
    "nx.write_pajek(G, \"crates_io.net\")"
   ]
  },
  {
   "cell_type": "code",
   "execution_count": 137,
   "metadata": {},
   "outputs": [
    {
     "name": "stdout",
     "output_type": "stream",
     "text": [
      "Number of nodes:  145269\n",
      "Number of edges:  830376\n",
      "Number of connected components:  25179\n"
     ]
    }
   ],
   "source": [
    "print(\"Number of nodes: \", G.number_of_nodes())\n",
    "print(\"Number of edges: \", G.number_of_edges())\n",
    "print(\"Number of connected components: \", nx.number_weakly_connected_components(G))"
   ]
  },
  {
   "cell_type": "code",
   "execution_count": 148,
   "metadata": {},
   "outputs": [
    {
     "data": {
      "image/png": "[encoded data removed]",
      "text/plain": [
       "<Figure size 900x300 with 3 Axes>"
      ]
     },
     "metadata": {},
     "output_type": "display_data"
    }
   ],
   "source": [
    "def get_k_distribution(G, fn):\n",
    "    n = len(G)\n",
    "    return {k: v / n for k, v in Counter([k for _, k in fn(G)]).items()}\n",
    "\n",
    "\n",
    "ks = {\n",
    "    \"Degree\": get_k_distribution(G, lambda g: g.degree()),\n",
    "    \"In-degree\": get_k_distribution(G, lambda g: g.in_degree()),\n",
    "    \"Out-degree\": get_k_distribution(G, lambda g: g.out_degree()),\n",
    "}\n",
    "\n",
    "fig, axs = plt.subplots(1, 3, figsize=(9, 3))\n",
    "\n",
    "for i, (k, dist) in enumerate(ks.items()):\n",
    "    sns.lineplot(x=list(dist.keys()), y=list(dist.values()), ax=axs[i])\n",
    "\n",
    "    axs[i].set_title(k)\n",
    "    axs[i].set_xscale(\"log\")\n",
    "    axs[i].set_yscale(\"log\")\n",
    "    axs[i].set_xlabel(\"k\")\n",
    "    axs[i].set_ylabel(\"P(k)\")\n",
    "\n",
    "plt.show()"
   ]
  },
  {
   "cell_type": "code",
   "execution_count": null,
   "metadata": {},
   "outputs": [],
   "source": []
  }
 ],
 "metadata": {
  "kernelspec": {
   "display_name": ".venv",
   "language": "python",
   "name": "python3"
  },
  "language_info": {
   "codemirror_mode": {
    "name": "ipython",
    "version": 3
   },
   "file_extension": ".py",
   "mimetype": "text/x-python",
   "name": "python",
   "nbconvert_exporter": "python",
   "pygments_lexer": "ipython3",
   "version": "3.11.0"
  }
 },
 "nbformat": 4,
 "nbformat_minor": 2
}
