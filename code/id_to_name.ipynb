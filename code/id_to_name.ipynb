{
 "cells": [
  {
   "cell_type": "code",
   "execution_count": 1,
   "metadata": {},
   "outputs": [],
   "source": [
    "from igraph import *\n",
    "import os"
   ]
  },
  {
   "cell_type": "code",
   "execution_count": 2,
   "metadata": {},
   "outputs": [],
   "source": [
    "def change_id_to_name(path):\n",
    "    net = Graph.Read_Pajek(path)\n",
    "\n",
    "    net.vs['id'] = net.vs['name_']\n",
    "    summary(net)\n",
    "    print(net.vs[0].attributes())\n",
    "    net.write_graphml(path.replace('.net', '.graphml'))"
   ]
  },
  {
   "cell_type": "code",
   "execution_count": 3,
   "metadata": {},
   "outputs": [
    {
     "name": "stdout",
     "output_type": "stream",
     "text": [
      "IGRAPH DNW- 145269 830376 -- \n",
      "+ attr: created_at (v), downloads (v), id (v), name (v), name_ (v), repository (v), shape (v), x (v), y (v), weight (e)\n",
      "{'id': 'respawn', 'name': '813340', 'x': 0.0, 'y': 0.0, 'shape': 'ellipse', 'name_': 'respawn', 'repository': 'https://github.com/4LT/respawn/', 'created_at': '2023-03-17 22:57:04.557212', 'downloads': '812'}\n",
      "IGRAPH DNW- 2425767 23017187 -- \n",
      "+ attr: downloads (v), id (v), name (v), name_ (v), repository (v), shape (v), x (v), y (v), weight (e)\n",
      "{'id': 'stylelint-patterns', 'name': '32772', 'x': 0.0, 'y': 0.0, 'shape': 'ellipse', 'name_': 'stylelint-patterns', 'downloads': '5199', 'repository': ''}\n"
     ]
    }
   ],
   "source": [
    "# change_id_to_name('../networks/python-dependencies.net')\n",
    "change_id_to_name('../networks/crates_io.net')\n",
    "change_id_to_name('../networks/npm_graph_full.net')"
   ]
  },
  {
   "cell_type": "code",
   "execution_count": 4,
   "metadata": {},
   "outputs": [
    {
     "name": "stdout",
     "output_type": "stream",
     "text": [
      "{'id': 'respawn', 'name': '813340', 'x': 0.0, 'y': 0.0, 'shape': 'ellipse', 'name_': 'respawn', 'repository': 'https://github.com/4LT/respawn/', 'created_at': '2023-03-17 22:57:04.557212', 'downloads': '812'}\n"
     ]
    },
    {
     "name": "stderr",
     "output_type": "stream",
     "text": [
      "/tmp/ipykernel_13715/541330415.py:1: RuntimeWarning: Could not add vertex ids, there is already an 'id' vertex attribute. at src/io/graphml.c:488\n",
      "  crates_net = Graph.Read_GraphML('../networks/crates_io.graphml')\n"
     ]
    }
   ],
   "source": [
    "crates_net = Graph.Read_GraphML('../networks/crates_io.graphml')\n",
    "print(crates_net.vs[0].attributes())"
   ]
  },
  {
   "cell_type": "code",
   "execution_count": 6,
   "metadata": {},
   "outputs": [
    {
     "name": "stdout",
     "output_type": "stream",
     "text": [
      "{'id': 'package', 'name': 'package', 'x': 0.0, 'y': 0.0, 'shape': 'ellipse', 'downloads': '7904.0'}\n"
     ]
    }
   ],
   "source": [
    "python_net = Graph.Read_Pajek('../networks/python-dependencies.net')\n",
    "print(python_net.vs[0].attributes())\n",
    "python_net.write_graphml('../networks/python-dependencies.graphml')"
   ]
  }
 ],
 "metadata": {
  "kernelspec": {
   "display_name": "ina",
   "language": "python",
   "name": "python3"
  },
  "language_info": {
   "codemirror_mode": {
    "name": "ipython",
    "version": 3
   },
   "file_extension": ".py",
   "mimetype": "text/x-python",
   "name": "python",
   "nbconvert_exporter": "python",
   "pygments_lexer": "ipython3",
   "version": "3.12.2"
  }
 },
 "nbformat": 4,
 "nbformat_minor": 2
}
